{
  "cells": [
    {
      "cell_type": "code",
      "execution_count": null,
      "metadata": {
        "colab": {
          "background_save": true,
          "base_uri": "https://localhost:8080/"
        },
        "id": "-JNQIarjJyz8",
        "outputId": "02835bb2-074c-4c05-d1eb-d9bde2ff980a"
      },
      "outputs": [
        {
          "name": "stdout",
          "output_type": "stream",
          "text": [
            "Requirement already satisfied: yfinance in /usr/local/lib/python3.10/dist-packages (0.2.40)\n",
            "Requirement already satisfied: pandas>=1.3.0 in /usr/local/lib/python3.10/dist-packages (from yfinance) (2.0.3)\n",
            "Requirement already satisfied: numpy>=1.16.5 in /usr/local/lib/python3.10/dist-packages (from yfinance) (1.25.2)\n",
            "Requirement already satisfied: requests>=2.31 in /usr/local/lib/python3.10/dist-packages (from yfinance) (2.31.0)\n",
            "Requirement already satisfied: multitasking>=0.0.7 in /usr/local/lib/python3.10/dist-packages (from yfinance) (0.0.11)\n",
            "Requirement already satisfied: lxml>=4.9.1 in /usr/local/lib/python3.10/dist-packages (from yfinance) (4.9.4)\n",
            "Requirement already satisfied: platformdirs>=2.0.0 in /usr/local/lib/python3.10/dist-packages (from yfinance) (4.2.2)\n",
            "Requirement already satisfied: pytz>=2022.5 in /usr/local/lib/python3.10/dist-packages (from yfinance) (2023.4)\n",
            "Requirement already satisfied: frozendict>=2.3.4 in /usr/local/lib/python3.10/dist-packages (from yfinance) (2.4.4)\n",
            "Requirement already satisfied: peewee>=3.16.2 in /usr/local/lib/python3.10/dist-packages (from yfinance) (3.17.5)\n",
            "Requirement already satisfied: beautifulsoup4>=4.11.1 in /usr/local/lib/python3.10/dist-packages (from yfinance) (4.12.3)\n",
            "Requirement already satisfied: html5lib>=1.1 in /usr/local/lib/python3.10/dist-packages (from yfinance) (1.1)\n",
            "Requirement already satisfied: soupsieve>1.2 in /usr/local/lib/python3.10/dist-packages (from beautifulsoup4>=4.11.1->yfinance) (2.5)\n",
            "Requirement already satisfied: six>=1.9 in /usr/local/lib/python3.10/dist-packages (from html5lib>=1.1->yfinance) (1.16.0)\n",
            "Requirement already satisfied: webencodings in /usr/local/lib/python3.10/dist-packages (from html5lib>=1.1->yfinance) (0.5.1)\n",
            "Requirement already satisfied: python-dateutil>=2.8.2 in /usr/local/lib/python3.10/dist-packages (from pandas>=1.3.0->yfinance) (2.8.2)\n",
            "Requirement already satisfied: tzdata>=2022.1 in /usr/local/lib/python3.10/dist-packages (from pandas>=1.3.0->yfinance) (2024.1)\n",
            "Requirement already satisfied: charset-normalizer<4,>=2 in /usr/local/lib/python3.10/dist-packages (from requests>=2.31->yfinance) (3.3.2)\n",
            "Requirement already satisfied: idna<4,>=2.5 in /usr/local/lib/python3.10/dist-packages (from requests>=2.31->yfinance) (3.7)\n",
            "Requirement already satisfied: urllib3<3,>=1.21.1 in /usr/local/lib/python3.10/dist-packages (from requests>=2.31->yfinance) (2.0.7)\n",
            "Requirement already satisfied: certifi>=2017.4.17 in /usr/local/lib/python3.10/dist-packages (from requests>=2.31->yfinance) (2024.6.2)\n",
            "yfinance: pandas_datareader support is deprecated & semi-broken so will be removed in a future verison. Just use yfinance.\n"
          ]
        }
      ],
      "source": [
        "import smtplib\n",
        "import email.message\n",
        "import pandas as pd\n",
        "import numpy as np\n",
        "import matplotlib.pyplot as plt\n",
        "import pandas_datareader.data as web\n",
        "import pandas as pd\n",
        "from datetime import date, timedelta, datetime\n",
        "import time\n",
        "%matplotlib inline\n",
        "!pip install yfinance\n",
        "import yfinance as yf\n",
        "yf.pdr_override()\n",
        "\n"
      ]
    },
    {
      "cell_type": "code",
      "execution_count": null,
      "metadata": {
        "id": "Nd5bTCGUOjl8"
      },
      "outputs": [],
      "source": [
        "def send_email(cripto, mensagem ):\n",
        "  msg = email.message.Message()\n",
        "  msg['Subject'] = f'MACD {cripto}'\n",
        "  msg['From'] = 'youremail'\n",
        "  msg['To'] = 'youremaiel'\n",
        "  password = 'password'\n",
        "  msg.add_header('Content-type', 'text/html')\n",
        "  msg.set_payload(mensagem)\n",
        "\n",
        "  s = smtplib.SMTP('smtp.gmail.com:587')\n",
        "  s.starttls()\n",
        "  #Login Credential for sending the mail\n",
        "  s.login(msg['From'], password)\n",
        "  s.sendmail(msg['From'], [msg['To']], msg.as_string().encode('utf-8'))\n",
        "  print(\"Email enviado\")"
      ]
    },
    {
      "cell_type": "code",
      "execution_count": null,
      "metadata": {
        "id": "CDnReZwfL5o8"
      },
      "outputs": [],
      "source": [
        "def downloadYahoo(ticker, nome, start_date, end_date):\n",
        "  # Baixar dados históricos\n",
        "  data = yf.download(ticker, start=start_date, end=end_date, )\n",
        "  rapidMME = data.Close.ewm(span=12).mean()\n",
        "  lentaMME = data.Close.ewm(span=26).mean()\n",
        "  MACD = rapidMME - lentaMME\n",
        "  sinal = MACD.ewm(span=9).mean()\n",
        "  data['MACD'] = MACD\n",
        "  data['Sinal'] = sinal\n",
        "\n",
        "\n",
        "  minimo = min([min(data['Sinal']), min(data['MACD'])])\n",
        "  maximo = max([max(data['Sinal']), max(data['MACD'])])\n",
        "\n",
        "  # Identify crossover points\n",
        "  crosses_up = (data['MACD'] > data['Sinal']) & (data['MACD'].shift(1) <= data['Sinal'].shift(1))\n",
        "  crosses_down = (data['MACD'] < data['Sinal']) & (data['MACD'].shift(1) >= data['Sinal'].shift(1))\n",
        "\n",
        "\n",
        "  # Track profit/loss\n",
        "  for i in range(len(data)):\n",
        "    if crosses_up.iloc[i]:\n",
        "        #print(f\"Compra efetuada: {data.index[i]}\")\n",
        "        if(str(crosses_up.index[i]).split(' ')[0] == str(date.today())):\n",
        "          print()\n",
        "          print(___________________________)\n",
        "          print(\"Efetuar compra\")\n",
        "          print(___________________________)\n",
        "          print()\n",
        "          send_email(\n",
        "              nome,\n",
        "              f\"\"\"\n",
        "              <p>Efetuar compra </p>\n",
        "              <p>Valor atual {data.Close[i]}</p>\n",
        "              <p>Hora atual: {datetime.now()}</p>\n",
        "              \"\"\"\n",
        "              )\n",
        "    elif crosses_down.iloc[i]:\n",
        "      if(str(crosses_down.index[i]).split(' ')[0] == str(date.today())):\n",
        "        print(___________________________)\n",
        "        print(\"Efetuar Venda\")\n",
        "        print(___________________________)\n",
        "        send_email(nome,f\"\"\"<p>Efetuar venda</p><p>Valor atual {data.Close[i]}</p><p>Hora atual: {datetime.now()}</p\"\"\")\n",
        "\n",
        "\n"
      ]
    },
    {
      "cell_type": "code",
      "execution_count": null,
      "metadata": {
        "colab": {
          "background_save": true,
          "base_uri": "https://localhost:8080/"
        },
        "id": "Gedu7L0sPOTt",
        "outputId": "9d811456-e3f7-4610-b805-ef1f16a3ccc9"
      },
      "outputs": [
        {
          "name": "stdout",
          "output_type": "stream",
          "text": [
            "\n",
            "iniciando a 1º verificação\n",
            "2024-05-28 04:55:51.359610\n",
            "___________\n"
          ]
        },
        {
          "name": "stderr",
          "output_type": "stream",
          "text": [
            "[*********************100%%**********************]  1 of 1 completed\n",
            "[*********************100%%**********************]  1 of 1 completed\n",
            "[*********************100%%**********************]  1 of 1 completed\n",
            "[*********************100%%**********************]  1 of 1 completed\n"
          ]
        },
        {
          "name": "stdout",
          "output_type": "stream",
          "text": [
            "1º verificação finalizada\n"
          ]
        },
        {
          "name": "stderr",
          "output_type": "stream",
          "text": [
            "\r[*********************100%%**********************]  1 of 1 completed"
          ]
        },
        {
          "name": "stdout",
          "output_type": "stream",
          "text": [
            "\n",
            "iniciando a 2º verificação\n",
            "2024-05-28 05:00:53.101120\n",
            "___________\n"
          ]
        },
        {
          "name": "stderr",
          "output_type": "stream",
          "text": [
            "\n",
            "[*********************100%%**********************]  1 of 1 completed\n",
            "[*********************100%%**********************]  1 of 1 completed\n",
            "[*********************100%%**********************]  1 of 1 completed\n"
          ]
        },
        {
          "name": "stdout",
          "output_type": "stream",
          "text": [
            "2º verificação finalizada\n",
            "\n",
            "iniciando a 3º verificação\n",
            "2024-05-28 05:05:53.644630\n",
            "___________\n"
          ]
        },
        {
          "name": "stderr",
          "output_type": "stream",
          "text": [
            "[*********************100%%**********************]  1 of 1 completed\n",
            "[*********************100%%**********************]  1 of 1 completed\n",
            "[*********************100%%**********************]  1 of 1 completed\n",
            "[*********************100%%**********************]  1 of 1 completed\n"
          ]
        },
        {
          "name": "stdout",
          "output_type": "stream",
          "text": [
            "3º verificação finalizada\n",
            "\n",
            "iniciando a 4º verificação\n",
            "2024-05-28 05:10:54.279517\n",
            "___________\n"
          ]
        },
        {
          "name": "stderr",
          "output_type": "stream",
          "text": [
            "[*********************100%%**********************]  1 of 1 completed\n",
            "[*********************100%%**********************]  1 of 1 completed\n",
            "[*********************100%%**********************]  1 of 1 completed\n",
            "[*********************100%%**********************]  1 of 1 completed\n"
          ]
        },
        {
          "name": "stdout",
          "output_type": "stream",
          "text": [
            "4º verificação finalizada\n",
            "\n",
            "iniciando a 5º verificação\n",
            "2024-05-28 05:15:54.897268\n",
            "___________\n"
          ]
        },
        {
          "name": "stderr",
          "output_type": "stream",
          "text": [
            "[*********************100%%**********************]  1 of 1 completed\n",
            "[*********************100%%**********************]  1 of 1 completed\n",
            "[*********************100%%**********************]  1 of 1 completed\n",
            "[*********************100%%**********************]  1 of 1 completed\n"
          ]
        },
        {
          "name": "stdout",
          "output_type": "stream",
          "text": [
            "5º verificação finalizada\n"
          ]
        },
        {
          "name": "stderr",
          "output_type": "stream",
          "text": [
            "\r[*********************100%%**********************]  1 of 1 completed"
          ]
        },
        {
          "name": "stdout",
          "output_type": "stream",
          "text": [
            "\n",
            "iniciando a 6º verificação\n",
            "2024-05-28 05:20:55.448811\n",
            "___________\n"
          ]
        },
        {
          "name": "stderr",
          "output_type": "stream",
          "text": [
            "\n",
            "[*********************100%%**********************]  1 of 1 completed\n",
            "[*********************100%%**********************]  1 of 1 completed\n",
            "[*********************100%%**********************]  1 of 1 completed\n"
          ]
        },
        {
          "name": "stdout",
          "output_type": "stream",
          "text": [
            "6º verificação finalizada\n"
          ]
        },
        {
          "name": "stderr",
          "output_type": "stream",
          "text": [
            "\r[*********************100%%**********************]  1 of 1 completed"
          ]
        },
        {
          "name": "stdout",
          "output_type": "stream",
          "text": [
            "\n",
            "iniciando a 7º verificação\n",
            "2024-05-28 05:25:55.955275\n",
            "___________\n"
          ]
        },
        {
          "name": "stderr",
          "output_type": "stream",
          "text": [
            "\n",
            "[*********************100%%**********************]  1 of 1 completed\n",
            "[*********************100%%**********************]  1 of 1 completed\n",
            "[*********************100%%**********************]  1 of 1 completed\n"
          ]
        },
        {
          "name": "stdout",
          "output_type": "stream",
          "text": [
            "7º verificação finalizada\n"
          ]
        },
        {
          "name": "stderr",
          "output_type": "stream",
          "text": [
            "\r[*********************100%%**********************]  1 of 1 completed"
          ]
        },
        {
          "name": "stdout",
          "output_type": "stream",
          "text": [
            "\n",
            "iniciando a 8º verificação\n",
            "2024-05-28 05:30:56.470665\n",
            "___________\n"
          ]
        },
        {
          "name": "stderr",
          "output_type": "stream",
          "text": [
            "\n",
            "[*********************100%%**********************]  1 of 1 completed\n",
            "[*********************100%%**********************]  1 of 1 completed\n",
            "[*********************100%%**********************]  1 of 1 completed\n"
          ]
        },
        {
          "name": "stdout",
          "output_type": "stream",
          "text": [
            "8º verificação finalizada\n"
          ]
        },
        {
          "name": "stderr",
          "output_type": "stream",
          "text": [
            "\r[*********************100%%**********************]  1 of 1 completed"
          ]
        },
        {
          "name": "stdout",
          "output_type": "stream",
          "text": [
            "\n",
            "iniciando a 9º verificação\n",
            "2024-05-28 05:35:57.013891\n",
            "___________\n"
          ]
        },
        {
          "name": "stderr",
          "output_type": "stream",
          "text": [
            "\n",
            "[*********************100%%**********************]  1 of 1 completed\n",
            "[*********************100%%**********************]  1 of 1 completed\n",
            "[*********************100%%**********************]  1 of 1 completed\n"
          ]
        },
        {
          "name": "stdout",
          "output_type": "stream",
          "text": [
            "9º verificação finalizada\n"
          ]
        },
        {
          "name": "stderr",
          "output_type": "stream",
          "text": [
            "\r[*********************100%%**********************]  1 of 1 completed"
          ]
        },
        {
          "name": "stdout",
          "output_type": "stream",
          "text": [
            "\n",
            "iniciando a 10º verificação\n",
            "2024-05-28 05:40:57.531714\n",
            "___________\n"
          ]
        },
        {
          "name": "stderr",
          "output_type": "stream",
          "text": [
            "\n",
            "[*********************100%%**********************]  1 of 1 completed\n",
            "[*********************100%%**********************]  1 of 1 completed\n",
            "[*********************100%%**********************]  1 of 1 completed\n"
          ]
        },
        {
          "name": "stdout",
          "output_type": "stream",
          "text": [
            "10º verificação finalizada\n",
            "\n",
            "iniciando a 11º verificação\n",
            "2024-05-28 05:45:58.006353\n",
            "___________\n"
          ]
        },
        {
          "name": "stderr",
          "output_type": "stream",
          "text": [
            "[*********************100%%**********************]  1 of 1 completed\n",
            "[*********************100%%**********************]  1 of 1 completed\n",
            "[*********************100%%**********************]  1 of 1 completed\n",
            "[*********************100%%**********************]  1 of 1 completed\n"
          ]
        },
        {
          "name": "stdout",
          "output_type": "stream",
          "text": [
            "11º verificação finalizada\n",
            "\n",
            "iniciando a 12º verificação\n",
            "2024-05-28 05:50:58.813273\n",
            "___________\n"
          ]
        },
        {
          "name": "stderr",
          "output_type": "stream",
          "text": [
            "[*********************100%%**********************]  1 of 1 completed\n",
            "[*********************100%%**********************]  1 of 1 completed\n",
            "[*********************100%%**********************]  1 of 1 completed\n",
            "[*********************100%%**********************]  1 of 1 completed\n"
          ]
        },
        {
          "name": "stdout",
          "output_type": "stream",
          "text": [
            "12º verificação finalizada\n"
          ]
        }
      ],
      "source": [
        "\n",
        "i = 0\n",
        "while (True):\n",
        "  i = i+1\n",
        "  print()\n",
        "  print(f'iniciando a {i}º verificação')\n",
        "  data_atual = datetime.today() + timedelta(1)\n",
        "  print(data_atual)\n",
        "  print(\"___________\")\n",
        "  downloadYahoo(ticker='RNDR-USD', nome=\"Render\",   start_date='2024-01-01', end_date=data_atual)\n",
        "  downloadYahoo(ticker='BTC-USD',  nome=\"Bitcoin\",  start_date='2024-01-01', end_date=data_atual)\n",
        "  downloadYahoo(ticker='ETH-USD',  nome=\"Etherium\", start_date='2024-01-01', end_date=data_atual)\n",
        "  downloadYahoo(ticker='ENA-USD',  nome=\"Ethena\",   start_date='2024-01-01', end_date=data_atual)\n",
        "  #downloadYahoo(ticker='NEAR-USD',  nome=\"NEAR\",    start_date='2024-01-01', end_date=data_atual)\n",
        "  print(f'{i}º verificação finalizada')\n",
        "  time.sleep(300)"
      ]
    },
    {
      "cell_type": "code",
      "execution_count": null,
      "metadata": {
        "id": "42nTjr4ue09G"
      },
      "outputs": [],
      "source": []
    }
  ],
  "metadata": {
    "colab": {
      "provenance": []
    },
    "kernelspec": {
      "display_name": "Python 3",
      "name": "python3"
    },
    "language_info": {
      "name": "python"
    }
  },
  "nbformat": 4,
  "nbformat_minor": 0
}
